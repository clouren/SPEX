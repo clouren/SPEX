{
 "cells": [
  {
   "cell_type": "markdown",
   "metadata": {},
   "source": [
    " SPEX_Cholesky: (c) 2022, Chris Lourenco, United States Naval Academy, \n",
    " \n",
    " Lorena Mejia Domenzain, Jinhao Chen, Erick Moreno-Centeno, Timothy A. Davis,\n",
    " \n",
    " Texas A&M University. All Rights Reserved. \n",
    " \n",
    " SPDX-License-Identifier: GPL-2.0-or-later or LGPL-3.0-or-later"
   ]
  },
  {
   "cell_type": "code",
   "execution_count": 1,
   "metadata": {},
   "outputs": [],
   "source": [
    "from SPEX import Chol, util, Left_LU, Backslash\n",
    "\n",
    "import numpy as np\n",
    "from scipy.sparse import csc_matrix\n",
    "from scipy.sparse import coo_matrix"
   ]
  },
  {
   "cell_type": "code",
   "execution_count": 2,
   "metadata": {},
   "outputs": [],
   "source": [
    "##--------------------------------------------------------------------------\n",
    "## Read in A and populate b\n",
    "##--------------------------------------------------------------------------\n",
    "fname='../SPEX_Cholesky/ExampleMats/1438.mat.txt'\n",
    "A=util.spex_matrix_from_file(fname)\n",
    "b=np.ones(A.shape[0],dtype=np.float64)"
   ]
  },
  {
   "cell_type": "code",
   "execution_count": 3,
   "metadata": {},
   "outputs": [],
   "source": [
    "##--------------------------------------------------------------------------\n",
    "## solve\n",
    "##--------------------------------------------------------------------------\n",
    "x=Chol.backslash(A,b)"
   ]
  },
  {
   "cell_type": "code",
   "execution_count": 4,
   "metadata": {},
   "outputs": [
    {
     "data": {
      "text/plain": [
       "[1.3203262337505628,\n",
       " 0.010618496694713537,\n",
       " 0.7921957402503395,\n",
       " 0.015811314157259868,\n",
       " 0.3457997278870542,\n",
       " 0.016556471820046808,\n",
       " -0.006287267779763068,\n",
       " 0.013971706177254718,\n",
       " -0.2514907111905828,\n",
       " 0.009314470784836514,\n",
       " -0.37723606678587546,\n",
       " 0.003981936260517657,\n",
       " -0.37094879900611183,\n",
       " -0.0004890097162038396,\n",
       " -0.22005437229176278,\n",
       " -0.002421762404057424,\n",
       " 0.08802174891670062,\n",
       " 0.5658541001788069]"
      ]
     },
     "execution_count": 4,
     "metadata": {},
     "output_type": "execute_result"
    }
   ],
   "source": [
    "x"
   ]
  },
  {
   "cell_type": "code",
   "execution_count": 5,
   "metadata": {},
   "outputs": [],
   "source": [
    "##--------------------------------------------------------------------------\n",
    "## Create A and populate b\n",
    "##---------------------------------------------------------------------\n",
    "row = np.array([0, 0, 0, 1, 1, 1, 2, 2, 2])\n",
    "col = np.array([0, 1, 2, 0, 1, 2, 0, 1, 2])\n",
    "data = np.array([4, 12, -16, 12, 37, -43, -16, -43, 98],dtype=np.float64)\n",
    "A=csc_matrix((data, (row, col)), shape=(3, 3))\n",
    "b=np.ones(3,dtype=np.float64)"
   ]
  },
  {
   "cell_type": "code",
   "execution_count": 6,
   "metadata": {},
   "outputs": [],
   "source": [
    "##--------------------------------------------------------------------------\n",
    "## solve\n",
    "##--------------------------------------------------------------------------\n",
    "x=Left_LU.backslash(A,b)"
   ]
  },
  {
   "cell_type": "code",
   "execution_count": 7,
   "metadata": {},
   "outputs": [
    {
     "data": {
      "text/plain": [
       "[37.916666666666664, -10.333333333333332, 1.6666666666666665]"
      ]
     },
     "execution_count": 7,
     "metadata": {},
     "output_type": "execute_result"
    }
   ],
   "source": [
    "x"
   ]
  },
  {
   "cell_type": "code",
   "execution_count": 8,
   "metadata": {},
   "outputs": [],
   "source": [
    "x=Backslash.backslash(A,b)"
   ]
  },
  {
   "cell_type": "code",
   "execution_count": 9,
   "metadata": {},
   "outputs": [
    {
     "data": {
      "text/plain": [
       "[37.916666666666664, -10.333333333333332, 1.6666666666666665]"
      ]
     },
     "execution_count": 9,
     "metadata": {},
     "output_type": "execute_result"
    }
   ],
   "source": [
    "x"
   ]
  }
 ],
 "metadata": {
  "kernelspec": {
   "display_name": "Python 3",
   "language": "python",
   "name": "python3"
  },
  "language_info": {
   "codemirror_mode": {
    "name": "ipython",
    "version": 3
   },
   "file_extension": ".py",
   "mimetype": "text/x-python",
   "name": "python",
   "nbconvert_exporter": "python",
   "pygments_lexer": "ipython3",
   "version": "3.8.8"
  }
 },
 "nbformat": 4,
 "nbformat_minor": 4
}
