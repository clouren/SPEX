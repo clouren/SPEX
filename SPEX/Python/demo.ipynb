{
 "cells": [
  {
   "cell_type": "markdown",
   "metadata": {},
   "source": [
    " SPEX: (c) 2022, Chris Lourenco, Jinhao Chen, \n",
    " \n",
    " Lorena Mejia Domenzain, Timothy A. Davis, and Erick Moreno-Centeno.\n",
    " \n",
    " All Rights Reserved.\n",
    " \n",
    " SPDX-License-Identifier: GPL-2.0-or-later or LGPL-3.0-or-later\n"
   ]
  },
  {
   "cell_type": "code",
   "execution_count": 1,
   "metadata": {},
   "outputs": [],
   "source": [
    "# Import SPEX\n",
    "from SPEX import utils, backslash\n",
    "from SPEX.utils import Options\n",
    "\n",
    "# Import scientific computing\n",
    "import numpy as np\n",
    "from numpy.random import default_rng\n",
    "from scipy.sparse import csc_matrix\n",
    "from scipy.sparse import coo_matrix\n",
    "from scipy.sparse import random\n",
    "from scipy import stats"
   ]
  },
  {
   "cell_type": "markdown",
   "metadata": {},
   "source": [
    "## SPEX Cholesky"
   ]
  },
  {
   "cell_type": "code",
   "execution_count": 2,
   "metadata": {},
   "outputs": [],
   "source": [
    "##--------------------------------------------------------------------------\n",
    "## Read in A and populate b\n",
    "##--------------------------------------------------------------------------\n",
    "fname='../SPEX_Cholesky/ExampleMats/1438.mat.txt'\n",
    "A=utils.spex_matrix_from_file(fname)\n",
    "b=np.ones(A.shape[0],dtype=np.float64)"
   ]
  },
  {
   "cell_type": "code",
   "execution_count": 3,
   "metadata": {},
   "outputs": [
    {
     "name": "stdout",
     "output_type": "stream",
     "text": [
      "[ 1.32032623e+00  1.06184967e-02  7.92195740e-01  1.58113142e-02\n",
      "  3.45799728e-01  1.65564718e-02 -6.28726778e-03  1.39717062e-02\n",
      " -2.51490711e-01  9.31447078e-03 -3.77236067e-01  3.98193626e-03\n",
      " -3.70948799e-01 -4.89009716e-04 -2.20054372e-01 -2.42176240e-03\n",
      "  8.80217489e-02  5.65854100e-01]\n"
     ]
    }
   ],
   "source": [
    "##--------------------------------------------------------------------------\n",
    "## solve\n",
    "##--------------------------------------------------------------------------\n",
    "x=backslash.cholesky(A,b)\n",
    "print(x)"
   ]
  },
  {
   "cell_type": "markdown",
   "metadata": {},
   "source": [
    "## SPEX Left LU"
   ]
  },
  {
   "cell_type": "code",
   "execution_count": 4,
   "metadata": {},
   "outputs": [],
   "source": [
    "##--------------------------------------------------------------------------\n",
    "## Create A and populate b\n",
    "##---------------------------------------------------------------------\n",
    "row = np.array([0, 0, 0, 1, 1, 1, 2, 2, 2])\n",
    "col = np.array([0, 1, 2, 0, 1, 2, 0, 1, 2])\n",
    "data = np.array([4, 12, -16, 12, 37, -43, -16, -43, 98],dtype=np.float64)\n",
    "A=csc_matrix((data, (row, col)), shape=(3, 3))\n",
    "b=np.ones(3,dtype=np.float64)"
   ]
  },
  {
   "cell_type": "code",
   "execution_count": 5,
   "metadata": {},
   "outputs": [
    {
     "name": "stdout",
     "output_type": "stream",
     "text": [
      "[b'455/12' b'-31/3' b'5/3']\n"
     ]
    }
   ],
   "source": [
    "##--------------------------------------------------------------------------\n",
    "## solve\n",
    "##--------------------------------------------------------------------------\n",
    "options=Options(\"string\")\n",
    "x=backslash.lu(A,b,options)\n",
    "print(x)"
   ]
  },
  {
   "cell_type": "markdown",
   "metadata": {},
   "source": [
    "## SPEX Backslash"
   ]
  },
  {
   "cell_type": "code",
   "execution_count": 11,
   "metadata": {},
   "outputs": [],
   "source": [
    "##--------------------------------------------------------------------------\n",
    "## Generate a random sparse matrix A and populate b\n",
    "##---------------------------------------------------------------------\n",
    "n=10\n",
    "rng = default_rng()\n",
    "rvs = stats.poisson(25, loc=10).rvs\n",
    "S = random(n, n, density=0.7, random_state=rng, data_rvs=rvs)\n",
    "S2=S+np.eye(n)\n",
    "A=csc_matrix(S2)\n",
    "b=np.ones(n,dtype=np.float64)"
   ]
  },
  {
   "cell_type": "code",
   "execution_count": 14,
   "metadata": {},
   "outputs": [
    {
     "name": "stdout",
     "output_type": "stream",
     "text": [
      "[ 0.01438261  0.01510618 -0.01002573 -0.01197852  0.00302306  0.01750892\n",
      "  0.02284174 -0.0063122  -0.0042667  -0.00013612]\n"
     ]
    }
   ],
   "source": [
    "##--------------------------------------------------------------------------\n",
    "## solve\n",
    "##--------------------------------------------------------------------------\n",
    "x=backslash.general(A,b)\n",
    "print(x)"
   ]
  }
 ],
 "metadata": {
  "kernelspec": {
   "display_name": "Python 3",
   "language": "python",
   "name": "python3"
  },
  "language_info": {
   "codemirror_mode": {
    "name": "ipython",
    "version": 3
   },
   "file_extension": ".py",
   "mimetype": "text/x-python",
   "name": "python",
   "nbconvert_exporter": "python",
   "pygments_lexer": "ipython3",
   "version": "3.8.5"
  }
 },
 "nbformat": 4,
 "nbformat_minor": 4
}
