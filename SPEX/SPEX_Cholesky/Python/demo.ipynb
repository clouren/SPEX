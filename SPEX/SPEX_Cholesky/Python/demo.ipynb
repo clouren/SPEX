{
 "cells": [
  {
   "cell_type": "code",
   "execution_count": null,
   "metadata": {},
   "outputs": [],
   "source": []
  },
  {
   "cell_type": "code",
   "execution_count": 1,
   "metadata": {},
   "outputs": [],
   "source": [
    "from SPEX import SPEX_Chol"
   ]
  },
  {
   "cell_type": "code",
   "execution_count": 2,
   "metadata": {},
   "outputs": [],
   "source": [
    "import numpy as np\n",
    "from scipy.sparse import csc_matrix\n",
    "from scipy.sparse import coo_matrix"
   ]
  },
  {
   "cell_type": "code",
   "execution_count": 14,
   "metadata": {},
   "outputs": [
    {
     "name": "stdout",
     "output_type": "stream",
     "text": [
      "x_d\n",
      "37.916666666666664 <class 'float'>\n",
      "-10.333333333333332 <class 'float'>\n",
      "1.6666666666666665 <class 'float'>\n",
      "x_c\n",
      "None\n",
      "None\n",
      "None\n",
      "x_v\n",
      "37.916666666666664\n",
      "-10.333333333333332\n",
      "1.6666666666666665\n",
      "Test from file successful\n"
     ]
    }
   ],
   "source": [
    "##--------------------------------------------------------------------------\n",
    "## Read in A and populate b\n",
    "##---------------------------------------------------------------------\n",
    "fname='../ExampleMats/1438.mat.txt'\n",
    "A=SPEX_Chol.spex_matrix_from_file(fname)\n",
    "b=np.ones(A.shape[0],dtype=np.float64)\n",
    "##baby test with small dense matrix\n",
    "##just to check the \"connection\" with c works\n",
    "row = np.array([0, 0, 0, 1, 1, 1, 2, 2, 2])\n",
    "col = np.array([0, 1, 2, 0, 1, 2, 0, 1, 2])\n",
    "data = np.array([4, 12, -16, 12, 37, -43, -16, -43, 98],dtype=np.float64)\n",
    "A=csc_matrix((data, (row, col)), shape=(3, 3))\n",
    "b=np.ones(3,dtype=np.float64)\n",
    "##--------------------------------------------------------------------------\n",
    "## solve\n",
    "##--------------------------------------------------------------------------\n",
    "#x=SPEX_Chol.spex_chol_backslash(A,b,2,True)\n",
    "charOut=False\n",
    "x=SPEX_Chol.SPEX_Chol_all(A,b,2,charOut)\n",
    "print('Test from file successful')"
   ]
  },
  {
   "cell_type": "code",
   "execution_count": 15,
   "metadata": {},
   "outputs": [],
   "source": [
    "x2=SPEX_Chol.spex_chol_backslash(A,b,2,charOut)"
   ]
  },
  {
   "cell_type": "code",
   "execution_count": 16,
   "metadata": {},
   "outputs": [
    {
     "data": {
      "text/plain": [
       "[37.916666666666664, -10.333333333333332, 1.6666666666666665]"
      ]
     },
     "execution_count": 16,
     "metadata": {},
     "output_type": "execute_result"
    }
   ],
   "source": [
    "x2"
   ]
  },
  {
   "cell_type": "code",
   "execution_count": null,
   "metadata": {},
   "outputs": [],
   "source": []
  }
 ],
 "metadata": {
  "kernelspec": {
   "display_name": "Python 3",
   "language": "python",
   "name": "python3"
  },
  "language_info": {
   "codemirror_mode": {
    "name": "ipython",
    "version": 3
   },
   "file_extension": ".py",
   "mimetype": "text/x-python",
   "name": "python",
   "nbconvert_exporter": "python",
   "pygments_lexer": "ipython3",
   "version": "3.8.5"
  }
 },
 "nbformat": 4,
 "nbformat_minor": 4
}
